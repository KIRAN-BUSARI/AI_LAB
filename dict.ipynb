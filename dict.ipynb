{
 "cells": [
  {
   "cell_type": "code",
   "execution_count": 19,
   "metadata": {},
   "outputs": [
    {
     "name": "stdout",
     "output_type": "stream",
     "text": [
      "a 1\n",
      "b 2\n",
      "c {'d': 4, 'e': 5, 'f': {Ellipsis}}\n",
      "abc {Ellipsis}\n",
      "abcd 100\n"
     ]
    }
   ],
   "source": [
    "dic = {\"a\":1,\"b\":2,\"c\":{\"d\":4,\"e\":5,\"f\":{...}},\"abc\":{...},\"abcd\":100}\n",
    "dic[\"c\"][\"d\"]\n",
    "for key,value in dic.items():\n",
    "    print(key,value)"
   ]
  },
  {
   "cell_type": "code",
   "execution_count": 20,
   "metadata": {},
   "outputs": [
    {
     "data": {
      "text/plain": [
       "True"
      ]
     },
     "execution_count": 20,
     "metadata": {},
     "output_type": "execute_result"
    }
   ],
   "source": [
    "\"\"\" use isinstance to check and iterateing and making the recurssive function. \"\"\"\n",
    "key = \"d\"\n",
    "# def dicSearch(key):\n",
    "#     for i in dic:\n",
    "\n",
    "isinstance(dic, dict) # It returns true"
   ]
  },
  {
   "cell_type": "code",
   "execution_count": 21,
   "metadata": {},
   "outputs": [
    {
     "name": "stdout",
     "output_type": "stream",
     "text": [
      "11\n"
     ]
    }
   ],
   "source": [
    "def find_value(d, key):\n",
    "    if isinstance(d, dict): # It returs false if it is not a dict\n",
    "        for k, v in d.items(): # It iterates through the dict\n",
    "            if k == key: # If the key is found\n",
    "                return v\n",
    "            elif isinstance(v, dict): # If the value is a dict\n",
    "                result = find_value(v, key)\n",
    "                if result is not None: # If the value is found\n",
    "                    return result # It will return result if it is not None\n",
    "    return None # If the key is not found\n",
    "dic = {\n",
    "    \"a\":1,\n",
    "    \"b\":2,\n",
    "    \"c\":{\n",
    "        \"d\":4,\n",
    "        \"e\":5,\n",
    "        \"f\":{\n",
    "            \"g\": 6, \n",
    "            \"h\": 7\n",
    "            }, \n",
    "        \"i\": 8, \n",
    "        \"j\": {\n",
    "            \"k\": 9, \n",
    "            \"l\": 10,\n",
    "            \"n\": {\n",
    "                \"o\": 11\n",
    "                },\n",
    "            \"p\": {\n",
    "                \"q\": 12\n",
    "                },\n",
    "            \"r\":13\n",
    "            }\n",
    "        },\n",
    "        \"abc\": {\n",
    "            \"m\":11\n",
    "            },\n",
    "        \"abcd\":100}\n",
    "d_value = find_value(dic, \"m\")\n",
    "print(d_value)"
   ]
  }
 ],
 "metadata": {
  "kernelspec": {
   "display_name": "Python 3",
   "language": "python",
   "name": "python3"
  },
  "language_info": {
   "codemirror_mode": {
    "name": "ipython",
    "version": 3
   },
   "file_extension": ".py",
   "mimetype": "text/x-python",
   "name": "python",
   "nbconvert_exporter": "python",
   "pygments_lexer": "ipython3",
   "version": "3.12.1"
  }
 },
 "nbformat": 4,
 "nbformat_minor": 2
}
