{
 "cells": [
  {
   "cell_type": "code",
   "execution_count": null,
   "metadata": {},
   "outputs": [],
   "source": []
  },
  {
   "cell_type": "code",
   "execution_count": 5,
   "metadata": {},
   "outputs": [
    {
     "name": "stdout",
     "output_type": "stream",
     "text": [
      "[1, 2, 4, 2, 34]\n",
      "[1, 2, 4, 2, 34, 5]\n",
      "[1, 2, 4, 2, 5]\n",
      "5\n",
      "[1, 2, 2, 4, 5]\n",
      "[5, 4, 2, 2, 1]\n",
      "[5, 4, 2, 2, 1]\n",
      "2\n",
      "[5, 4, 10, 2, 2, 1]\n",
      "{'name': 'kiran'}\n",
      "<class 'dict'>\n",
      "kiran\n"
     ]
    }
   ],
   "source": [
    "# creating a my_list\n",
    "my_list = [1,2,4,2,34,]\n",
    "print(my_list)\n",
    "my_list.append(5)\n",
    "print(my_list)\n",
    "my_list.remove(34)\n",
    "print(my_list)\n",
    "length = len(my_list)\n",
    "print(length)\n",
    "# print(type (my_list))\n",
    "# my_list_as_tubple  = tuple(my_list)\n",
    "# print(my_list_as_tubple)\n",
    "# print(type (my_list_as_tubple))\n",
    "# list_to_set = set(my_list)\n",
    "# print(type (list_to_set))\n",
    "# print(list_to_set)\n",
    "# my_list = list(list_to_set)\n",
    "# print(my_list)\n",
    "# print(type (my_list))\n",
    "my_list.sort()\n",
    "print(my_list)\n",
    "\n",
    "my_list.reverse()\n",
    "print(my_list)\n",
    "\n",
    "copied_list = my_list.copy()\n",
    "print(copied_list)\n",
    "\n",
    "count_of_2 = my_list.count(2)\n",
    "print(count_of_2)\n",
    "\n",
    "my_list.insert(2,10)\n",
    "print(my_list)\n",
    "\n",
    "# my_list.clear()\n",
    "# print(my_list)\n",
    "\n",
    "dictonary = {\"name\":\"kiran\"}\n",
    "print(dictonary)\n",
    "print(type (dictonary))\n",
    "print(dictonary[\"name\"])\n"
   ]
  },
  {
   "cell_type": "code",
   "execution_count": 9,
   "metadata": {},
   "outputs": [],
   "source": []
  },
  {
   "cell_type": "code",
   "execution_count": null,
   "metadata": {},
   "outputs": [],
   "source": []
  }
 ],
 "metadata": {
  "kernelspec": {
   "display_name": "Python 3",
   "language": "python",
   "name": "python3"
  },
  "language_info": {
   "codemirror_mode": {
    "name": "ipython",
    "version": 3
   },
   "file_extension": ".py",
   "mimetype": "text/x-python",
   "name": "python",
   "nbconvert_exporter": "python",
   "pygments_lexer": "ipython3",
   "version": "3.12.1"
  }
 },
 "nbformat": 4,
 "nbformat_minor": 2
}
