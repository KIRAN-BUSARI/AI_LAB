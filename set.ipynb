{
 "cells": [
  {
   "cell_type": "code",
   "execution_count": 17,
   "metadata": {},
   "outputs": [
    {
     "name": "stdout",
     "output_type": "stream",
     "text": [
      "Union Set : {1, 2, 3, 4, 5, 6, 7}\n",
      "intersection set : {3, 4, 5}\n",
      "Difference set : {1, 2}\n",
      "Symmetric difference set : {1, 2, 6, 7}\n",
      "Do set1 and set2 have comman elements ? False\n",
      "set1 after adding element : {1, 2, 3, 4, 5, 6}\n",
      "set1 after removing element : {1, 2, 4, 5, 6}\n"
     ]
    }
   ],
   "source": [
    "set1={1,2,3,4,5}\n",
    "set2={3,4,5,6,7}\n",
    "print(\"Union Set :\",set1.union(set2))\n",
    "print(\"intersection set :\",set1.intersection(set2))\n",
    "print(\"Difference set :\",set1.difference(set2))\n",
    "print(\"Symmetric difference set :\",set1.symmetric_difference(set2))\n",
    "print(\"Do set1 and set2 have comman elements ?\",set1.isdisjoint(set2))\n",
    "set1.add(6)\n",
    "print(\"set1 after adding element :\",set1)\n",
    "set1.remove(3)\n",
    "print(\"set1 after removing element :\",set1)"
   ]
  }
 ],
 "metadata": {
  "kernelspec": {
   "display_name": "Python 3",
   "language": "python",
   "name": "python3"
  },
  "language_info": {
   "codemirror_mode": {
    "name": "ipython",
    "version": 3
   },
   "file_extension": ".py",
   "mimetype": "text/x-python",
   "name": "python",
   "nbconvert_exporter": "python",
   "pygments_lexer": "ipython3",
   "version": "3.12.1"
  }
 },
 "nbformat": 4,
 "nbformat_minor": 2
}
