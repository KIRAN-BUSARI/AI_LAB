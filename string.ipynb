{
 "cells": [
  {
   "cell_type": "code",
   "execution_count": null,
   "metadata": {},
   "outputs": [],
   "source": []
  },
  {
   "cell_type": "code",
   "execution_count": 11,
   "metadata": {},
   "outputs": [
    {
     "name": "stdout",
     "output_type": "stream",
     "text": [
      "1\n",
      "2\n",
      "3\n",
      "1\n",
      "2\n",
      "3\n"
     ]
    },
    {
     "data": {
      "text/plain": [
       "[1, 2, 3]"
      ]
     },
     "execution_count": 11,
     "metadata": {},
     "output_type": "execute_result"
    }
   ],
   "source": [
    "s1 = \"Hello This is kiran\"\n",
    "s2 = \"i\"\n",
    "count = 0\n",
    "# for i in s1:\n",
    "#     if(i in s2):\n",
    "#         count = count+1\n",
    "# print(count)\n",
    "\n",
    "len1 = len(s1)\n",
    "len2 = len(s2)\n",
    "\n",
    "\n",
    "\n",
    "\n",
    "\n",
    "l1 = list(set([1,2,3,2,1]))\n",
    "# l2 = set(l1)\n",
    "l1\n",
    "\n",
    "l2 = [1,2,3,1,2,3]\n",
    "l3 = []\n",
    "\n",
    "for i in l2:\n",
    "    print(i)\n",
    "    if(i not in l3):\n",
    "        l3.append(i)\n",
    "l3\n",
    "\n",
    "\n",
    "\n"
   ]
  },
  {
   "cell_type": "code",
   "execution_count": 73,
   "metadata": {},
   "outputs": [
    {
     "name": "stdout",
     "output_type": "stream",
     "text": [
      "['kiran', 'kumar', 'busari']\n"
     ]
    },
    {
     "data": {
      "text/plain": [
       "['narik', 'ramuk', 'irasub']"
      ]
     },
     "execution_count": 73,
     "metadata": {},
     "output_type": "execute_result"
    }
   ],
   "source": [
    "l1 = ['kiran','kumar','busari']\n",
    "# l1.reverse()\n",
    "print(l1)\n",
    "l2 = []\n",
    "l1[::-1]\n",
    "\n",
    "l1[0][::-1]\n",
    "l1[1][::-1]\n",
    "l1[2][::-1]\n",
    "\n",
    "for i in l1:\n",
    "    l2.append(i[::-1])\n",
    "l2"
   ]
  },
  {
   "cell_type": "code",
   "execution_count": 132,
   "metadata": {},
   "outputs": [
    {
     "data": {
      "text/plain": [
       "7"
      ]
     },
     "execution_count": 132,
     "metadata": {},
     "output_type": "execute_result"
    }
   ],
   "source": [
    "s1 = 'This is kiran'\n",
    "s2 = 'is'\n",
    "# lens1 = len(s1)\n",
    "# print(lens1)\n",
    "# s2 = s1.split(\"is\")\n",
    "# print(s2)\n",
    "\n",
    "s1.find(s2)\n",
    "\n",
    "s3 = \"abababababa ab ab\"\n",
    "s4 = \"ab\"\n",
    "# s3.find(s4)\n",
    "s3.count(s4)\n",
    "\n",
    "# # print(s3.find(s4))"
   ]
  }
 ],
 "metadata": {
  "kernelspec": {
   "display_name": "Python 3",
   "language": "python",
   "name": "python3"
  },
  "language_info": {
   "codemirror_mode": {
    "name": "ipython",
    "version": 3
   },
   "file_extension": ".py",
   "mimetype": "text/x-python",
   "name": "python",
   "nbconvert_exporter": "python",
   "pygments_lexer": "ipython3",
   "version": "3.12.1"
  }
 },
 "nbformat": 4,
 "nbformat_minor": 2
}
