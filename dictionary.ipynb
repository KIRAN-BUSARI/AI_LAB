{
 "cells": [
  {
   "cell_type": "code",
   "execution_count": 7,
   "metadata": {},
   "outputs": [
    {
     "name": "stdout",
     "output_type": "stream",
     "text": [
      "The key \"b\" exists in dictionary\n",
      "Traversing the dictionary\n",
      "key : a values : 1\n",
      "key : b values : 2\n",
      "key : c values : 3\n",
      "key : d values : 4\n",
      "key : e values : 5\n",
      "\n",
      " using dictionary methods : \n",
      "keys : ['a', 'b', 'c', 'd', 'e']\n",
      "value : [1, 2, 3, 4, 5]\n",
      "items : [('a', 1), ('b', 2), ('c', 3), ('d', 4), ('e', 5)]\n"
     ]
    }
   ],
   "source": [
    "dict = {'a':1,'b':2,'c':3,'d':4}\n",
    "dict['e'] = 5\n",
    "key_to_check = 'b'\n",
    "if key_to_check in dict:\n",
    "    print(f'The key \"{key_to_check}\" exists in dictionary')\n",
    "print(\"Traversing the dictionary\")\n",
    "for key,value in dict.items():\n",
    "    print(f'key : {key} values : {value}')\n",
    "\n",
    "key_list = list(dict.keys())\n",
    "value_list = list(dict.values())\n",
    "items_list = list(dict.items())\n",
    "\n",
    "print(\"\\n using dictionary methods : \")\n",
    "print(f'keys : {key_list}')\n",
    "print(f'value : {value_list}')\n",
    "print(f'items : {items_list}')"
   ]
  }
 ],
 "metadata": {
  "kernelspec": {
   "display_name": "Python 3",
   "language": "python",
   "name": "python3"
  },
  "language_info": {
   "codemirror_mode": {
    "name": "ipython",
    "version": 3
   },
   "file_extension": ".py",
   "mimetype": "text/x-python",
   "name": "python",
   "nbconvert_exporter": "python",
   "pygments_lexer": "ipython3",
   "version": "3.12.1"
  }
 },
 "nbformat": 4,
 "nbformat_minor": 2
}
